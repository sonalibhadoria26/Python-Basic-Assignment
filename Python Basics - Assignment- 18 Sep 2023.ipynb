{
 "cells": [
  {
   "cell_type": "code",
   "execution_count": 8,
   "id": "f1c08a35",
   "metadata": {},
   "outputs": [
    {
     "name": "stdout",
     "output_type": "stream",
     "text": [
      "Hello Python\n"
     ]
    }
   ],
   "source": [
    "Message = \"Hello Python\"\n",
    "print(Message)"
   ]
  },
  {
   "cell_type": "code",
   "execution_count": 10,
   "id": "ded56882",
   "metadata": {},
   "outputs": [
    {
     "name": "stdout",
     "output_type": "stream",
     "text": [
      "Hello Python\n",
      "Hello World\n"
     ]
    }
   ],
   "source": [
    "A= \"Hello Python\"\n",
    "print(A)\n",
    "B = \"Hello World\"\n",
    "print(B)"
   ]
  },
  {
   "cell_type": "code",
   "execution_count": 11,
   "id": "1a710ec6",
   "metadata": {},
   "outputs": [
    {
     "name": "stdout",
     "output_type": "stream",
     "text": [
      "Hello Eric, would you like to learn some Python today?”\n"
     ]
    }
   ],
   "source": [
    "A =\"Hello Eric, would you like to learn some Python today?”\"\n",
    "print(A)"
   ]
  },
  {
   "cell_type": "code",
   "execution_count": 17,
   "id": "7d2512ae",
   "metadata": {},
   "outputs": [
    {
     "name": "stdout",
     "output_type": "stream",
     "text": [
      "Albert Einstein once said, “A person who never made a mistake\n",
      "never tried anything new.\n"
     ]
    }
   ],
   "source": [
    "print ('Albert Einstein once said, “A person who never made a mistake')\n",
    "print ('never tried anything new.')"
   ]
  },
  {
   "cell_type": "code",
   "execution_count": 20,
   "id": "37dd1705",
   "metadata": {},
   "outputs": [
    {
     "name": "stdout",
     "output_type": "stream",
     "text": [
      "Albert Einstein,once said, “A person who never made a mistake never tried anything new.\n"
     ]
    }
   ],
   "source": [
    "famous_person = \"Albert Einstein\"\n",
    "message = f'{famous_person},once said, “A person who never made a mistake never tried anything new.'\n",
    "print(message)"
   ]
  },
  {
   "cell_type": "code",
   "execution_count": 22,
   "id": "0091017f",
   "metadata": {},
   "outputs": [
    {
     "name": "stdout",
     "output_type": "stream",
     "text": [
      "8\n",
      "8\n",
      "8\n",
      "8.0\n"
     ]
    }
   ],
   "source": [
    "print(5+3)\n",
    "print(12-4)\n",
    "print(4*2)\n",
    "print(16/2)"
   ]
  },
  {
   "cell_type": "code",
   "execution_count": 28,
   "id": "73bb402e",
   "metadata": {},
   "outputs": [
    {
     "name": "stdout",
     "output_type": "stream",
     "text": [
      "my favourite number is:84\n"
     ]
    }
   ],
   "source": [
    "favourite_number = 84\n",
    "message = f\"my favourite number is:{favourite_number}\"\n",
    "print(message)"
   ]
  },
  {
   "cell_type": "code",
   "execution_count": 49,
   "id": "8631eee9",
   "metadata": {},
   "outputs": [
    {
     "name": "stdout",
     "output_type": "stream",
     "text": [
      "My favourite Number is84.\n"
     ]
    }
   ],
   "source": [
    "favourite_number = 84\n",
    "msg =\"My favourite Number is\"+ str(favourite_number) + \".\"\n",
    "print(msg)"
   ]
  },
  {
   "cell_type": "raw",
   "id": "f0af41d4",
   "metadata": {},
   "source": [
    "## 8.Name- Sonali bhadoria\n",
    "## Date- 18.09.2023\n",
    "\n",
    "Message = \"Hello Python\"\n",
    "print(Message)\n",
    "\n",
    "\n",
    "This program assigns the string \"Hello Python\" \n",
    "to the variable \"Message\" and then prints the content of the variable, \n",
    "displaying the message \"Hello Python\" in the output."
   ]
  },
  {
   "cell_type": "code",
   "execution_count": 46,
   "id": "58bf6902",
   "metadata": {},
   "outputs": [
    {
     "name": "stdout",
     "output_type": "stream",
     "text": [
      "Piya\n",
      "Bobby\n",
      "Priti\n",
      "Shuchi\n",
      "Ritu\n"
     ]
    }
   ],
   "source": [
    "Names = [\"Piya\", \"Bobby\", \"Priti\", \"Shuchi\", \"Ritu\"]\n",
    "print(Names[0])\n",
    "print(Names[1])\n",
    "print(Names[2])\n",
    "print(Names[3])\n",
    "print(Names[4])"
   ]
  },
  {
   "cell_type": "code",
   "execution_count": 52,
   "id": "030ecdd7",
   "metadata": {},
   "outputs": [
    {
     "name": "stdout",
     "output_type": "stream",
     "text": [
      "Hello, Piya!\n",
      "Hello, Bobby!\n",
      "Hello, Priti!\n",
      "Hello, Shuchi!\n",
      "Hello, Ritu!\n"
     ]
    }
   ],
   "source": [
    "names = [\"Piya\", \"Bobby\", \"Priti\", \"Shuchi\", \"Ritu\"]\n",
    "\n",
    "msg = \"Hello, \" + names[0].title() + \"!\"\n",
    "print(msg)\n",
    "\n",
    "msg = \"Hello, \" + names[1].title() + \"!\"\n",
    "print(msg)\n",
    "\n",
    "msg = \"Hello, \" + names[2].title() + \"!\"\n",
    "print(msg)\n",
    "\n",
    "msg = \"Hello, \" + names[3].title() + \"!\"\n",
    "print(msg)\n",
    "\n",
    "msg = \"Hello, \" + names[4].title() + \"!\"\n",
    "print(msg)"
   ]
  },
  {
   "cell_type": "code",
   "execution_count": 50,
   "id": "381f8c19",
   "metadata": {},
   "outputs": [
    {
     "name": "stdout",
     "output_type": "stream",
     "text": [
      "I would like to own a motorcycle.\n",
      "I would like to own a car.\n",
      "I would like to own a bicycle.\n",
      "I would like to own a scooter.\n",
      "I would like to own a Scooty.\n"
     ]
    }
   ],
   "source": [
    "transportation_modes = [\"motorcycle\", \"car\", \"bicycle\", \"scooter\",\"Scooty\"]\n",
    "for mode in transportation_modes:\n",
    "    print(f\"I would like to own a {mode}.\")"
   ]
  },
  {
   "cell_type": "code",
   "execution_count": null,
   "id": "c9f6c598",
   "metadata": {},
   "outputs": [],
   "source": []
  }
 ],
 "metadata": {
  "kernelspec": {
   "display_name": "Python 3 (ipykernel)",
   "language": "python",
   "name": "python3"
  },
  "language_info": {
   "codemirror_mode": {
    "name": "ipython",
    "version": 3
   },
   "file_extension": ".py",
   "mimetype": "text/x-python",
   "name": "python",
   "nbconvert_exporter": "python",
   "pygments_lexer": "ipython3",
   "version": "3.11.4"
  }
 },
 "nbformat": 4,
 "nbformat_minor": 5
}
